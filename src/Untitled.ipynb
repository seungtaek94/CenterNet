{
 "cells": [
  {
   "cell_type": "code",
   "execution_count": 4,
   "metadata": {},
   "outputs": [],
   "source": [
    "from lib.opts import opts\n",
    "from lib.models.model import create_model, load_model\n",
    "from types import MethodType\n",
    "import torch.onnx as onnx\n",
    "import torch\n",
    "from torch.onnx import OperatorExportTypes\n",
    "from collections import OrderedDict\n",
    "## onnx is not support dict return value\n",
    "## for dla34"
   ]
  },
  {
   "cell_type": "code",
   "execution_count": 5,
   "metadata": {},
   "outputs": [],
   "source": [
    "def pose_dla_forward(self, x):\n",
    "    x = self.base(x)\n",
    "    x = self.dla_up(x)\n",
    "    y = []\n",
    "    for i in range(self.last_level - self.first_level):\n",
    "        y.append(x[i].clone())\n",
    "    self.ida_up(y, 0, len(y))\n",
    "    ret = []  ## change dict to list\n",
    "    for head in self.heads:\n",
    "        ret.append(self.__getattr__(head)(y[-1]))\n",
    "    return ret\n",
    "\n",
    "## for dla34v0\n",
    "def dlav0_forward(self, x):\n",
    "    x = self.base(x)\n",
    "    x = self.dla_up(x[self.first_level:])\n",
    "    # x = self.fc(x)\n",
    "    # y = self.softmax(self.up(x))\n",
    "    ret = []  ## change dict to list\n",
    "    for head in self.heads:\n",
    "        ret.append(self.__getattr__(head)(x))\n",
    "    return ret\n",
    "## for resdcn\n",
    "def resnet_dcn_forward(self, x):\n",
    "    x = self.conv1(x)\n",
    "    x = self.bn1(x)\n",
    "    x = self.relu(x)\n",
    "    x = self.maxpool(x)\n",
    "\n",
    "    x = self.layer1(x)\n",
    "    x = self.layer2(x)\n",
    "    x = self.layer3(x)\n",
    "    x = self.layer4(x)\n",
    "    x = self.deconv_layers(x)\n",
    "    ret = []  ## change dict to list\n",
    "    for head in self.heads:\n",
    "        ret.append(self.__getattr__(head)(x))\n",
    "    return ret"
   ]
  },
  {
   "cell_type": "code",
   "execution_count": 9,
   "metadata": {},
   "outputs": [
    {
     "name": "stderr",
     "output_type": "stream",
     "text": [
      "usage: ipykernel_launcher.py [-h] [--dataset DATASET] [--exp_id EXP_ID]\n",
      "                             [--test] [--debug DEBUG] [--demo DEMO]\n",
      "                             [--load_model LOAD_MODEL] [--resume]\n",
      "                             [--gpus GPUS] [--num_workers NUM_WORKERS]\n",
      "                             [--not_cuda_benchmark] [--seed SEED]\n",
      "                             [--print_iter PRINT_ITER] [--hide_data_time]\n",
      "                             [--save_all] [--metric METRIC]\n",
      "                             [--vis_thresh VIS_THRESH]\n",
      "                             [--debugger_theme {white,black}] [--arch ARCH]\n",
      "                             [--head_conv HEAD_CONV] [--down_ratio DOWN_RATIO]\n",
      "                             [--input_res INPUT_RES] [--input_h INPUT_H]\n",
      "                             [--input_w INPUT_W] [--lr LR] [--lr_step LR_STEP]\n",
      "                             [--num_epochs NUM_EPOCHS]\n",
      "                             [--batch_size BATCH_SIZE]\n",
      "                             [--master_batch_size MASTER_BATCH_SIZE]\n",
      "                             [--num_iters NUM_ITERS]\n",
      "                             [--val_intervals VAL_INTERVALS] [--trainval]\n",
      "                             [--flip_test] [--test_scales TEST_SCALES] [--nms]\n",
      "                             [--K K] [--not_prefetch_test] [--fix_res]\n",
      "                             [--keep_res] [--not_rand_crop] [--shift SHIFT]\n",
      "                             [--scale SCALE] [--rotate ROTATE] [--flip FLIP]\n",
      "                             [--no_color_aug] [--aug_rot AUG_ROT]\n",
      "                             [--aug_ddd AUG_DDD] [--rect_mask]\n",
      "                             [--kitti_split KITTI_SPLIT] [--mse_loss]\n",
      "                             [--reg_loss REG_LOSS] [--hm_weight HM_WEIGHT]\n",
      "                             [--off_weight OFF_WEIGHT] [--wh_weight WH_WEIGHT]\n",
      "                             [--hp_weight HP_WEIGHT]\n",
      "                             [--hm_hp_weight HM_HP_WEIGHT]\n",
      "                             [--dep_weight DEP_WEIGHT]\n",
      "                             [--dim_weight DIM_WEIGHT]\n",
      "                             [--rot_weight ROT_WEIGHT]\n",
      "                             [--peak_thresh PEAK_THRESH] [--norm_wh]\n",
      "                             [--dense_wh] [--cat_spec_wh] [--not_reg_offset]\n",
      "                             [--agnostic_ex] [--scores_thresh SCORES_THRESH]\n",
      "                             [--center_thresh CENTER_THRESH]\n",
      "                             [--aggr_weight AGGR_WEIGHT] [--dense_hp]\n",
      "                             [--not_hm_hp] [--not_reg_hp_offset]\n",
      "                             [--not_reg_bbox] [--eval_oracle_hm]\n",
      "                             [--eval_oracle_wh] [--eval_oracle_offset]\n",
      "                             [--eval_oracle_kps] [--eval_oracle_hmhp]\n",
      "                             [--eval_oracle_hp_offset] [--eval_oracle_dep]\n",
      "                             task\n",
      "ipykernel_launcher.py: error: unrecognized arguments: -f\n"
     ]
    },
    {
     "ename": "SystemExit",
     "evalue": "2",
     "output_type": "error",
     "traceback": [
      "An exception has occurred, use %tb to see the full traceback.\n",
      "\u001b[0;31mSystemExit\u001b[0m\u001b[0;31m:\u001b[0m 2\n"
     ]
    }
   ],
   "source": [
    "forward = {'dla':pose_dla_forward,'dlav0':dlav0_forward,'resdcn':resnet_dcn_forward}\n",
    "\n",
    "opt = opts().init()  ## change lib/opts.py add_argument('task', default='ctdet'....) to add_argument('--task', default='ctdet'....)"
   ]
  },
  {
   "cell_type": "code",
   "execution_count": 8,
   "metadata": {},
   "outputs": [
    {
     "name": "stderr",
     "output_type": "stream",
     "text": [
      "usage: ipykernel_launcher.py [-h] [--dataset DATASET] [--exp_id EXP_ID]\n",
      "                             [--test] [--debug DEBUG] [--demo DEMO]\n",
      "                             [--load_model LOAD_MODEL] [--resume]\n",
      "                             [--gpus GPUS] [--num_workers NUM_WORKERS]\n",
      "                             [--not_cuda_benchmark] [--seed SEED]\n",
      "                             [--print_iter PRINT_ITER] [--hide_data_time]\n",
      "                             [--save_all] [--metric METRIC]\n",
      "                             [--vis_thresh VIS_THRESH]\n",
      "                             [--debugger_theme {white,black}] [--arch ARCH]\n",
      "                             [--head_conv HEAD_CONV] [--down_ratio DOWN_RATIO]\n",
      "                             [--input_res INPUT_RES] [--input_h INPUT_H]\n",
      "                             [--input_w INPUT_W] [--lr LR] [--lr_step LR_STEP]\n",
      "                             [--num_epochs NUM_EPOCHS]\n",
      "                             [--batch_size BATCH_SIZE]\n",
      "                             [--master_batch_size MASTER_BATCH_SIZE]\n",
      "                             [--num_iters NUM_ITERS]\n",
      "                             [--val_intervals VAL_INTERVALS] [--trainval]\n",
      "                             [--flip_test] [--test_scales TEST_SCALES] [--nms]\n",
      "                             [--K K] [--not_prefetch_test] [--fix_res]\n",
      "                             [--keep_res] [--not_rand_crop] [--shift SHIFT]\n",
      "                             [--scale SCALE] [--rotate ROTATE] [--flip FLIP]\n",
      "                             [--no_color_aug] [--aug_rot AUG_ROT]\n",
      "                             [--aug_ddd AUG_DDD] [--rect_mask]\n",
      "                             [--kitti_split KITTI_SPLIT] [--mse_loss]\n",
      "                             [--reg_loss REG_LOSS] [--hm_weight HM_WEIGHT]\n",
      "                             [--off_weight OFF_WEIGHT] [--wh_weight WH_WEIGHT]\n",
      "                             [--hp_weight HP_WEIGHT]\n",
      "                             [--hm_hp_weight HM_HP_WEIGHT]\n",
      "                             [--dep_weight DEP_WEIGHT]\n",
      "                             [--dim_weight DIM_WEIGHT]\n",
      "                             [--rot_weight ROT_WEIGHT]\n",
      "                             [--peak_thresh PEAK_THRESH] [--norm_wh]\n",
      "                             [--dense_wh] [--cat_spec_wh] [--not_reg_offset]\n",
      "                             [--agnostic_ex] [--scores_thresh SCORES_THRESH]\n",
      "                             [--center_thresh CENTER_THRESH]\n",
      "                             [--aggr_weight AGGR_WEIGHT] [--dense_hp]\n",
      "                             [--not_hm_hp] [--not_reg_hp_offset]\n",
      "                             [--not_reg_bbox] [--eval_oracle_hm]\n",
      "                             [--eval_oracle_wh] [--eval_oracle_offset]\n",
      "                             [--eval_oracle_kps] [--eval_oracle_hmhp]\n",
      "                             [--eval_oracle_hp_offset] [--eval_oracle_dep]\n",
      "                             task\n",
      "ipykernel_launcher.py: error: unrecognized arguments: -f\n"
     ]
    },
    {
     "ename": "SystemExit",
     "evalue": "2",
     "output_type": "error",
     "traceback": [
      "An exception has occurred, use %tb to see the full traceback.\n",
      "\u001b[0;31mSystemExit\u001b[0m\u001b[0;31m:\u001b[0m 2\n"
     ]
    }
   ],
   "source": [
    "opt.arch = 'dla_34'\n",
    "opt.heads = OrderedDict([('hm', 8), ('reg', 2), ('wh', 2)])\n",
    "opt.head_conv = 256 if 'dla' in opt.arch else 64\n",
    "print(opt)\n",
    "\n",
    "model = create_model(opt.arch, opt.heads, opt.head_conv)\n",
    "model.forward = MethodType(forward[opt.arch.split('_')[0]], model)\n",
    "load_model(model, 'ctdet_coco_dla_2x.pth')\n",
    "model.eval()\n",
    "model.cuda()\n",
    "input = torch.zeros([1, 3, 512, 512]).cuda()\n",
    "onnx.export(model, input, \"ctdet_coco_dla_2x.onnx\", verbose=True,\n",
    "            operator_export_type=OperatorExportTypes.ONNX)"
   ]
  },
  {
   "cell_type": "code",
   "execution_count": null,
   "metadata": {},
   "outputs": [],
   "source": []
  }
 ],
 "metadata": {
  "kernelspec": {
   "display_name": "yolo3",
   "language": "python",
   "name": "torch-yolo3"
  },
  "language_info": {
   "codemirror_mode": {
    "name": "ipython",
    "version": 3
   },
   "file_extension": ".py",
   "mimetype": "text/x-python",
   "name": "python",
   "nbconvert_exporter": "python",
   "pygments_lexer": "ipython3",
   "version": "3.6.12"
  }
 },
 "nbformat": 4,
 "nbformat_minor": 2
}
